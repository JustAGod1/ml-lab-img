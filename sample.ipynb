{
 "cells": [
  {
   "metadata": {
    "ExecuteTime": {
     "end_time": "2025-04-10T13:25:54.395905Z",
     "start_time": "2025-04-10T13:25:37.931295Z"
    }
   },
   "cell_type": "code",
   "source": [
    "import torchvision\n",
    "import torch\n",
    "from torch import nn\n",
    "\n",
    "import matplotlib.pyplot as plt\n",
    "\n",
    "import numpy as np\n",
    "import io\n",
    "\n",
    "from torchvision.datasets import MNIST\n"
   ],
   "id": "fbc121e30a2defb3",
   "outputs": [],
   "execution_count": 1
  },
  {
   "metadata": {
    "ExecuteTime": {
     "end_time": "2025-04-10T13:25:54.403881Z",
     "start_time": "2025-04-10T13:25:54.397478Z"
    }
   },
   "cell_type": "code",
   "source": [
    "import os\n",
    "os.environ[\"KMP_DUPLICATE_LIB_OK\"]=\"TRUE\""
   ],
   "id": "bb9ae6d2db628048",
   "outputs": [],
   "execution_count": 2
  },
  {
   "metadata": {
    "ExecuteTime": {
     "end_time": "2025-04-10T13:25:54.516147Z",
     "start_time": "2025-04-10T13:25:54.401605Z"
    }
   },
   "cell_type": "code",
   "source": [
    "plt.plot([1, 2, 3, 4])\n",
    "plt.ylabel('some numbers')\n",
    "plt.show()"
   ],
   "id": "6bafc75e835a9c64",
   "outputs": [
    {
     "data": {
      "text/plain": "<Figure size 640x480 with 1 Axes>",
      "image/png": "[encoded data removed]"
     },
     "metadata": {},
     "output_type": "display_data"
    }
   ],
   "execution_count": 3
  },
  {
   "metadata": {
    "ExecuteTime": {
     "end_time": "2025-04-10T13:25:54.659809Z",
     "start_time": "2025-04-10T13:25:54.518599Z"
    }
   },
   "cell_type": "code",
   "source": [
    "train_data_fmnist = torchvision.datasets.FashionMNIST(root='./data', train=True, download=True, transform=torchvision.transforms.ToTensor())\n",
    "test_data_fmnist = torchvision.datasets.FashionMNIST(root='./data', train=False, download=True, transform=torchvision.transforms.ToTensor())\n",
    "\n",
    "train_data_mnist = torchvision.datasets.MNIST(root='./data', train=True, download=True, transform=torchvision.transforms.ToTensor())\n",
    "test_data_mnist = torchvision.datasets.MNIST(root='./data', train=False, download=True, transform=torchvision.transforms.ToTensor())\n",
    "\n"
   ],
   "id": "214c5eeedde32bf1",
   "outputs": [],
   "execution_count": 4
  },
  {
   "metadata": {
    "ExecuteTime": {
     "end_time": "2025-04-10T13:25:54.685476Z",
     "start_time": "2025-04-10T13:25:54.665529Z"
    }
   },
   "cell_type": "code",
   "source": [
    "device =  \"cpu\"\n",
    "\n",
    "# Define model\n",
    "class NeuralNetwork(nn.Module):\n",
    "    def __init__(self):\n",
    "        super().__init__()\n",
    "        self.flatten = nn.Flatten()\n",
    "        self.shared_layers  = nn.Sequential(\n",
    "            nn.Conv2d(1, 32, kernel_size=3),  # 1 input channel, 32 output channels\n",
    "            nn.ReLU(),\n",
    "            nn.MaxPool2d(2),\n",
    "            nn.Conv2d(32, 64, kernel_size=3),\n",
    "            nn.ReLU(),\n",
    "            nn.MaxPool2d(2),\n",
    "            nn.Flatten(),  # Flatten before Linear layers\n",
    "            nn.Linear(64 * 5 * 5, 512),  # Adjusted for MNIST after convs\n",
    "            nn.ReLU()\n",
    "        )\n",
    "        self.head1 = nn.Linear(512, 10)\n",
    "        self.head2 = nn.Linear(512, 10)\n",
    "\n",
    "    def forward(self, x, head=1):\n",
    "        x = self.flatten(x)\n",
    "        x = self.shared_layers(x)\n",
    "        \n",
    "        if head == 1:\n",
    "            return self.head1(x)  \n",
    "        else:\n",
    "            return self.head2(x) \n",
    "\n",
    "model = NeuralNetwork().to(device)\n",
    "print(model)"
   ],
   "id": "20e55314a5b8a588",
   "outputs": [
    {
     "name": "stdout",
     "output_type": "stream",
     "text": [
      "NeuralNetwork(\n",
      "  (flatten): Flatten(start_dim=1, end_dim=-1)\n",
      "  (shared_layers): Sequential(\n",
      "    (0): Conv2d(1, 32, kernel_size=(3, 3), stride=(1, 1))\n",
      "    (1): ReLU()\n",
      "    (2): MaxPool2d(kernel_size=2, stride=2, padding=0, dilation=1, ceil_mode=False)\n",
      "    (3): Conv2d(32, 64, kernel_size=(3, 3), stride=(1, 1))\n",
      "    (4): ReLU()\n",
      "    (5): MaxPool2d(kernel_size=2, stride=2, padding=0, dilation=1, ceil_mode=False)\n",
      "    (6): Flatten(start_dim=1, end_dim=-1)\n",
      "    (7): Linear(in_features=1600, out_features=512, bias=True)\n",
      "    (8): ReLU()\n",
      "  )\n",
      "  (head1): Linear(in_features=512, out_features=10, bias=True)\n",
      "  (head2): Linear(in_features=512, out_features=10, bias=True)\n",
      ")\n"
     ]
    }
   ],
   "execution_count": 5
  },
  {
   "metadata": {
    "ExecuteTime": {
     "end_time": "2025-04-10T13:25:54.685831Z",
     "start_time": "2025-04-10T13:25:54.679403Z"
    }
   },
   "cell_type": "code",
   "source": [
    "loss_fn = nn.CrossEntropyLoss()\n",
    "\n",
    "batch_size = 64\n",
    "def make_data_loader(data) -> torch.utils.data.DataLoader:\n",
    "    return torch.utils.data.DataLoader(data, batch_size=batch_size)"
   ],
   "id": "ab6709dea383d5b6",
   "outputs": [],
   "execution_count": 6
  },
  {
   "metadata": {
    "ExecuteTime": {
     "end_time": "2025-04-10T13:25:54.708062Z",
     "start_time": "2025-04-10T13:25:54.682953Z"
    }
   },
   "cell_type": "code",
   "source": [
    "def train(data, model, parameters, head: int) -> [float]:\n",
    "    optimizer = torch.optim.SGD(parameters, lr=1e-3)\n",
    "    steps = []\n",
    "    model.train()\n",
    "    dataloader = make_data_loader(data)\n",
    "    for batch, (X, y) in enumerate(dataloader):\n",
    "        X, y = X.to(device), y.to(device)\n",
    "\n",
    "        # Compute prediction error\n",
    "        pred = model(X, head=head)\n",
    "        loss = loss_fn(pred, y)\n",
    "\n",
    "        # Backpropagation\n",
    "        loss.backward()\n",
    "        optimizer.step()\n",
    "        optimizer.zero_grad()\n",
    "\n",
    "        steps.append(loss.item())\n",
    "        \n",
    "    return steps"
   ],
   "id": "b290bd63f09da556",
   "outputs": [],
   "execution_count": 7
  },
  {
   "metadata": {
    "ExecuteTime": {
     "end_time": "2025-04-10T13:25:54.708914Z",
     "start_time": "2025-04-10T13:25:54.689326Z"
    }
   },
   "cell_type": "code",
   "source": [
    "def test(data, model, head: int) -> (float, float):\n",
    "    dataloader = make_data_loader(data)\n",
    "    size = len(dataloader.dataset)\n",
    "    num_batches = len(dataloader)\n",
    "    model.eval()\n",
    "    test_loss, correct = 0, 0\n",
    "    with torch.no_grad():\n",
    "        for X, y in dataloader:\n",
    "            X, y = X.to(device), y.to(device)\n",
    "            pred = model(X, head=head)\n",
    "            test_loss += loss_fn(pred, y).item()\n",
    "            correct += (pred.argmax(1) == y).type(torch.float).sum().item()\n",
    "    test_loss /= num_batches\n",
    "    correct /= size\n",
    "    \n",
    "    return correct, test_loss"
   ],
   "id": "6ae432369572d3c0",
   "outputs": [],
   "execution_count": 8
  },
  {
   "metadata": {
    "ExecuteTime": {
     "end_time": "2025-04-10T13:25:54.709249Z",
     "start_time": "2025-04-10T13:25:54.699648Z"
    }
   },
   "cell_type": "code",
   "source": [
    "class EpochResult:\n",
    "    def __init__(self, steps: [float], correct: float, test_loss: float):\n",
    "        self.steps = steps\n",
    "        self.correct = correct\n",
    "        self.test_loss = test_loss\n",
    "\n",
    "\n",
    "\n",
    "def run_training(train_data, test_data, model, parameters, head: int) -> [EpochResult]:\n",
    "    epoch_results = []\n",
    "    epochs = 5\n",
    "    for t in range(epochs):\n",
    "        steps = train(train_data, model, parameters, head)\n",
    "        correct, test_loss = test(test_data, model, head)\n",
    "        \n",
    "        epoch_results.append(EpochResult(steps, correct, test_loss))\n",
    "    \n",
    "    return epoch_results\n",
    "    "
   ],
   "id": "9f35dab1c8a6f838",
   "outputs": [],
   "execution_count": 9
  },
  {
   "metadata": {},
   "cell_type": "markdown",
   "source": [
    "# Training on MNIST"
   ],
   "id": "9a2567b3cbadd027"
  },
  {
   "metadata": {
    "ExecuteTime": {
     "end_time": "2025-04-10T13:25:54.724678Z",
     "start_time": "2025-04-10T13:25:54.707004Z"
    }
   },
   "cell_type": "code",
   "source": [
    "def plot_learning(r: [EpochResult]):\n",
    "    loses = []\n",
    "    correctness = []\n",
    "    vlines = []\n",
    "    last = 0\n",
    "\n",
    "    for data in r:\n",
    "        loses.extend(np.array(data.steps))\n",
    "        correctness.append(data.correct)\n",
    "        last += len(data.steps)\n",
    "        vlines.append(last)\n",
    "\n",
    "    def moving_average(data, window_size):\n",
    "        cumsum = np.cumsum(np.insert(data, 0, 0)) \n",
    "        return (cumsum[window_size:] - cumsum[:-window_size]) / window_size\n",
    "        \n",
    "    plt.title(\"loses\")\n",
    "    plt.plot(loses, label=\"losses\")\n",
    "    plt.plot(moving_average(loses, 50), label=\"losses moving average\")\n",
    "\n",
    "    for vline in vlines:\n",
    "        plt.axvline(vline, color=\"red\")\n",
    "\n",
    "    plt.legend()\n",
    "\n",
    "    plt.show()\n",
    "\n",
    "    plt.title(\"correctness\")\n",
    "    plt.plot(correctness)\n",
    "    plt.show()\n",
    "    \n",
    "    correct_mnist, _ = test(test_data_mnist, model, head=1)\n",
    "    correct_fmnist, _ = test(test_data_fmnist, model, head=2)\n",
    "    \n",
    "    plt.title(\"Correction comparison\")\n",
    "    plt.bar([\"MNIST\", \"FashionMNIST\"], [correct_mnist * 100, correct_fmnist * 100])\n",
    "    plt.ylim([0, 100])\n",
    "    plt.show()\n"
   ],
   "id": "cf8b60f71dd13bc1",
   "outputs": [],
   "execution_count": 10
  },
  {
   "metadata": {
    "ExecuteTime": {
     "end_time": "2025-04-10T13:25:55.441623Z",
     "start_time": "2025-04-10T13:25:54.712755Z"
    }
   },
   "cell_type": "code",
   "source": [
    "mnist_learning = run_training(train_data_mnist, test_data_mnist, model, list(model.parameters()), 1)"
   ],
   "id": "8d229999b84a7f0c",
   "outputs": [
    {
     "ename": "RuntimeError",
     "evalue": "Expected 3D (unbatched) or 4D (batched) input to conv2d, but got input of size: [64, 784]",
     "output_type": "error",
     "traceback": [
      "\u001B[31m---------------------------------------------------------------------------\u001B[39m",
      "\u001B[31mRuntimeError\u001B[39m                              Traceback (most recent call last)",
      "\u001B[36mCell\u001B[39m\u001B[36m \u001B[39m\u001B[32mIn[11]\u001B[39m\u001B[32m, line 1\u001B[39m\n\u001B[32m----> \u001B[39m\u001B[32m1\u001B[39m mnist_learning = \u001B[43mrun_training\u001B[49m\u001B[43m(\u001B[49m\u001B[43mtrain_data_mnist\u001B[49m\u001B[43m,\u001B[49m\u001B[43m \u001B[49m\u001B[43mtest_data_mnist\u001B[49m\u001B[43m,\u001B[49m\u001B[43m \u001B[49m\u001B[43mmodel\u001B[49m\u001B[43m,\u001B[49m\u001B[43m \u001B[49m\u001B[38;5;28;43mlist\u001B[39;49m\u001B[43m(\u001B[49m\u001B[43mmodel\u001B[49m\u001B[43m.\u001B[49m\u001B[43mparameters\u001B[49m\u001B[43m(\u001B[49m\u001B[43m)\u001B[49m\u001B[43m)\u001B[49m\u001B[43m,\u001B[49m\u001B[43m \u001B[49m\u001B[32;43m1\u001B[39;49m\u001B[43m)\u001B[49m\n",
      "\u001B[36mCell\u001B[39m\u001B[36m \u001B[39m\u001B[32mIn[9]\u001B[39m\u001B[32m, line 13\u001B[39m, in \u001B[36mrun_training\u001B[39m\u001B[34m(train_data, test_data, model, parameters, head)\u001B[39m\n\u001B[32m     11\u001B[39m epochs = \u001B[32m5\u001B[39m\n\u001B[32m     12\u001B[39m \u001B[38;5;28;01mfor\u001B[39;00m t \u001B[38;5;129;01min\u001B[39;00m \u001B[38;5;28mrange\u001B[39m(epochs):\n\u001B[32m---> \u001B[39m\u001B[32m13\u001B[39m     steps = \u001B[43mtrain\u001B[49m\u001B[43m(\u001B[49m\u001B[43mtrain_data\u001B[49m\u001B[43m,\u001B[49m\u001B[43m \u001B[49m\u001B[43mmodel\u001B[49m\u001B[43m,\u001B[49m\u001B[43m \u001B[49m\u001B[43mparameters\u001B[49m\u001B[43m,\u001B[49m\u001B[43m \u001B[49m\u001B[43mhead\u001B[49m\u001B[43m)\u001B[49m\n\u001B[32m     14\u001B[39m     correct, test_loss = test(test_data, model, head)\n\u001B[32m     16\u001B[39m     epoch_results.append(EpochResult(steps, correct, test_loss))\n",
      "\u001B[36mCell\u001B[39m\u001B[36m \u001B[39m\u001B[32mIn[7]\u001B[39m\u001B[32m, line 10\u001B[39m, in \u001B[36mtrain\u001B[39m\u001B[34m(data, model, parameters, head)\u001B[39m\n\u001B[32m      7\u001B[39m X, y = X.to(device), y.to(device)\n\u001B[32m      9\u001B[39m \u001B[38;5;66;03m# Compute prediction error\u001B[39;00m\n\u001B[32m---> \u001B[39m\u001B[32m10\u001B[39m pred = \u001B[43mmodel\u001B[49m\u001B[43m(\u001B[49m\u001B[43mX\u001B[49m\u001B[43m,\u001B[49m\u001B[43m \u001B[49m\u001B[43mhead\u001B[49m\u001B[43m=\u001B[49m\u001B[43mhead\u001B[49m\u001B[43m)\u001B[49m\n\u001B[32m     11\u001B[39m loss = loss_fn(pred, y)\n\u001B[32m     13\u001B[39m \u001B[38;5;66;03m# Backpropagation\u001B[39;00m\n",
      "\u001B[36mFile \u001B[39m\u001B[32m~/Projects/ml-lab-img/venv/lib/python3.11/site-packages/torch/nn/modules/module.py:1511\u001B[39m, in \u001B[36mModule._wrapped_call_impl\u001B[39m\u001B[34m(self, *args, **kwargs)\u001B[39m\n\u001B[32m   1509\u001B[39m     \u001B[38;5;28;01mreturn\u001B[39;00m \u001B[38;5;28mself\u001B[39m._compiled_call_impl(*args, **kwargs)  \u001B[38;5;66;03m# type: ignore[misc]\u001B[39;00m\n\u001B[32m   1510\u001B[39m \u001B[38;5;28;01melse\u001B[39;00m:\n\u001B[32m-> \u001B[39m\u001B[32m1511\u001B[39m     \u001B[38;5;28;01mreturn\u001B[39;00m \u001B[38;5;28;43mself\u001B[39;49m\u001B[43m.\u001B[49m\u001B[43m_call_impl\u001B[49m\u001B[43m(\u001B[49m\u001B[43m*\u001B[49m\u001B[43margs\u001B[49m\u001B[43m,\u001B[49m\u001B[43m \u001B[49m\u001B[43m*\u001B[49m\u001B[43m*\u001B[49m\u001B[43mkwargs\u001B[49m\u001B[43m)\u001B[49m\n",
      "\u001B[36mFile \u001B[39m\u001B[32m~/Projects/ml-lab-img/venv/lib/python3.11/site-packages/torch/nn/modules/module.py:1520\u001B[39m, in \u001B[36mModule._call_impl\u001B[39m\u001B[34m(self, *args, **kwargs)\u001B[39m\n\u001B[32m   1515\u001B[39m \u001B[38;5;66;03m# If we don't have any hooks, we want to skip the rest of the logic in\u001B[39;00m\n\u001B[32m   1516\u001B[39m \u001B[38;5;66;03m# this function, and just call forward.\u001B[39;00m\n\u001B[32m   1517\u001B[39m \u001B[38;5;28;01mif\u001B[39;00m \u001B[38;5;129;01mnot\u001B[39;00m (\u001B[38;5;28mself\u001B[39m._backward_hooks \u001B[38;5;129;01mor\u001B[39;00m \u001B[38;5;28mself\u001B[39m._backward_pre_hooks \u001B[38;5;129;01mor\u001B[39;00m \u001B[38;5;28mself\u001B[39m._forward_hooks \u001B[38;5;129;01mor\u001B[39;00m \u001B[38;5;28mself\u001B[39m._forward_pre_hooks\n\u001B[32m   1518\u001B[39m         \u001B[38;5;129;01mor\u001B[39;00m _global_backward_pre_hooks \u001B[38;5;129;01mor\u001B[39;00m _global_backward_hooks\n\u001B[32m   1519\u001B[39m         \u001B[38;5;129;01mor\u001B[39;00m _global_forward_hooks \u001B[38;5;129;01mor\u001B[39;00m _global_forward_pre_hooks):\n\u001B[32m-> \u001B[39m\u001B[32m1520\u001B[39m     \u001B[38;5;28;01mreturn\u001B[39;00m \u001B[43mforward_call\u001B[49m\u001B[43m(\u001B[49m\u001B[43m*\u001B[49m\u001B[43margs\u001B[49m\u001B[43m,\u001B[49m\u001B[43m \u001B[49m\u001B[43m*\u001B[49m\u001B[43m*\u001B[49m\u001B[43mkwargs\u001B[49m\u001B[43m)\u001B[49m\n\u001B[32m   1522\u001B[39m \u001B[38;5;28;01mtry\u001B[39;00m:\n\u001B[32m   1523\u001B[39m     result = \u001B[38;5;28;01mNone\u001B[39;00m\n",
      "\u001B[36mCell\u001B[39m\u001B[36m \u001B[39m\u001B[32mIn[5]\u001B[39m\u001B[32m, line 24\u001B[39m, in \u001B[36mNeuralNetwork.forward\u001B[39m\u001B[34m(self, x, head)\u001B[39m\n\u001B[32m     22\u001B[39m \u001B[38;5;28;01mdef\u001B[39;00m\u001B[38;5;250m \u001B[39m\u001B[34mforward\u001B[39m(\u001B[38;5;28mself\u001B[39m, x, head=\u001B[32m1\u001B[39m):\n\u001B[32m     23\u001B[39m     x = \u001B[38;5;28mself\u001B[39m.flatten(x)\n\u001B[32m---> \u001B[39m\u001B[32m24\u001B[39m     x = \u001B[38;5;28;43mself\u001B[39;49m\u001B[43m.\u001B[49m\u001B[43mshared_layers\u001B[49m\u001B[43m(\u001B[49m\u001B[43mx\u001B[49m\u001B[43m)\u001B[49m\n\u001B[32m     26\u001B[39m     \u001B[38;5;28;01mif\u001B[39;00m head == \u001B[32m1\u001B[39m:\n\u001B[32m     27\u001B[39m         \u001B[38;5;28;01mreturn\u001B[39;00m \u001B[38;5;28mself\u001B[39m.head1(x)  \n",
      "\u001B[36mFile \u001B[39m\u001B[32m~/Projects/ml-lab-img/venv/lib/python3.11/site-packages/torch/nn/modules/module.py:1511\u001B[39m, in \u001B[36mModule._wrapped_call_impl\u001B[39m\u001B[34m(self, *args, **kwargs)\u001B[39m\n\u001B[32m   1509\u001B[39m     \u001B[38;5;28;01mreturn\u001B[39;00m \u001B[38;5;28mself\u001B[39m._compiled_call_impl(*args, **kwargs)  \u001B[38;5;66;03m# type: ignore[misc]\u001B[39;00m\n\u001B[32m   1510\u001B[39m \u001B[38;5;28;01melse\u001B[39;00m:\n\u001B[32m-> \u001B[39m\u001B[32m1511\u001B[39m     \u001B[38;5;28;01mreturn\u001B[39;00m \u001B[38;5;28;43mself\u001B[39;49m\u001B[43m.\u001B[49m\u001B[43m_call_impl\u001B[49m\u001B[43m(\u001B[49m\u001B[43m*\u001B[49m\u001B[43margs\u001B[49m\u001B[43m,\u001B[49m\u001B[43m \u001B[49m\u001B[43m*\u001B[49m\u001B[43m*\u001B[49m\u001B[43mkwargs\u001B[49m\u001B[43m)\u001B[49m\n",
      "\u001B[36mFile \u001B[39m\u001B[32m~/Projects/ml-lab-img/venv/lib/python3.11/site-packages/torch/nn/modules/module.py:1520\u001B[39m, in \u001B[36mModule._call_impl\u001B[39m\u001B[34m(self, *args, **kwargs)\u001B[39m\n\u001B[32m   1515\u001B[39m \u001B[38;5;66;03m# If we don't have any hooks, we want to skip the rest of the logic in\u001B[39;00m\n\u001B[32m   1516\u001B[39m \u001B[38;5;66;03m# this function, and just call forward.\u001B[39;00m\n\u001B[32m   1517\u001B[39m \u001B[38;5;28;01mif\u001B[39;00m \u001B[38;5;129;01mnot\u001B[39;00m (\u001B[38;5;28mself\u001B[39m._backward_hooks \u001B[38;5;129;01mor\u001B[39;00m \u001B[38;5;28mself\u001B[39m._backward_pre_hooks \u001B[38;5;129;01mor\u001B[39;00m \u001B[38;5;28mself\u001B[39m._forward_hooks \u001B[38;5;129;01mor\u001B[39;00m \u001B[38;5;28mself\u001B[39m._forward_pre_hooks\n\u001B[32m   1518\u001B[39m         \u001B[38;5;129;01mor\u001B[39;00m _global_backward_pre_hooks \u001B[38;5;129;01mor\u001B[39;00m _global_backward_hooks\n\u001B[32m   1519\u001B[39m         \u001B[38;5;129;01mor\u001B[39;00m _global_forward_hooks \u001B[38;5;129;01mor\u001B[39;00m _global_forward_pre_hooks):\n\u001B[32m-> \u001B[39m\u001B[32m1520\u001B[39m     \u001B[38;5;28;01mreturn\u001B[39;00m \u001B[43mforward_call\u001B[49m\u001B[43m(\u001B[49m\u001B[43m*\u001B[49m\u001B[43margs\u001B[49m\u001B[43m,\u001B[49m\u001B[43m \u001B[49m\u001B[43m*\u001B[49m\u001B[43m*\u001B[49m\u001B[43mkwargs\u001B[49m\u001B[43m)\u001B[49m\n\u001B[32m   1522\u001B[39m \u001B[38;5;28;01mtry\u001B[39;00m:\n\u001B[32m   1523\u001B[39m     result = \u001B[38;5;28;01mNone\u001B[39;00m\n",
      "\u001B[36mFile \u001B[39m\u001B[32m~/Projects/ml-lab-img/venv/lib/python3.11/site-packages/torch/nn/modules/container.py:217\u001B[39m, in \u001B[36mSequential.forward\u001B[39m\u001B[34m(self, input)\u001B[39m\n\u001B[32m    215\u001B[39m \u001B[38;5;28;01mdef\u001B[39;00m\u001B[38;5;250m \u001B[39m\u001B[34mforward\u001B[39m(\u001B[38;5;28mself\u001B[39m, \u001B[38;5;28minput\u001B[39m):\n\u001B[32m    216\u001B[39m     \u001B[38;5;28;01mfor\u001B[39;00m module \u001B[38;5;129;01min\u001B[39;00m \u001B[38;5;28mself\u001B[39m:\n\u001B[32m--> \u001B[39m\u001B[32m217\u001B[39m         \u001B[38;5;28minput\u001B[39m = \u001B[43mmodule\u001B[49m\u001B[43m(\u001B[49m\u001B[38;5;28;43minput\u001B[39;49m\u001B[43m)\u001B[49m\n\u001B[32m    218\u001B[39m     \u001B[38;5;28;01mreturn\u001B[39;00m \u001B[38;5;28minput\u001B[39m\n",
      "\u001B[36mFile \u001B[39m\u001B[32m~/Projects/ml-lab-img/venv/lib/python3.11/site-packages/torch/nn/modules/module.py:1511\u001B[39m, in \u001B[36mModule._wrapped_call_impl\u001B[39m\u001B[34m(self, *args, **kwargs)\u001B[39m\n\u001B[32m   1509\u001B[39m     \u001B[38;5;28;01mreturn\u001B[39;00m \u001B[38;5;28mself\u001B[39m._compiled_call_impl(*args, **kwargs)  \u001B[38;5;66;03m# type: ignore[misc]\u001B[39;00m\n\u001B[32m   1510\u001B[39m \u001B[38;5;28;01melse\u001B[39;00m:\n\u001B[32m-> \u001B[39m\u001B[32m1511\u001B[39m     \u001B[38;5;28;01mreturn\u001B[39;00m \u001B[38;5;28;43mself\u001B[39;49m\u001B[43m.\u001B[49m\u001B[43m_call_impl\u001B[49m\u001B[43m(\u001B[49m\u001B[43m*\u001B[49m\u001B[43margs\u001B[49m\u001B[43m,\u001B[49m\u001B[43m \u001B[49m\u001B[43m*\u001B[49m\u001B[43m*\u001B[49m\u001B[43mkwargs\u001B[49m\u001B[43m)\u001B[49m\n",
      "\u001B[36mFile \u001B[39m\u001B[32m~/Projects/ml-lab-img/venv/lib/python3.11/site-packages/torch/nn/modules/module.py:1520\u001B[39m, in \u001B[36mModule._call_impl\u001B[39m\u001B[34m(self, *args, **kwargs)\u001B[39m\n\u001B[32m   1515\u001B[39m \u001B[38;5;66;03m# If we don't have any hooks, we want to skip the rest of the logic in\u001B[39;00m\n\u001B[32m   1516\u001B[39m \u001B[38;5;66;03m# this function, and just call forward.\u001B[39;00m\n\u001B[32m   1517\u001B[39m \u001B[38;5;28;01mif\u001B[39;00m \u001B[38;5;129;01mnot\u001B[39;00m (\u001B[38;5;28mself\u001B[39m._backward_hooks \u001B[38;5;129;01mor\u001B[39;00m \u001B[38;5;28mself\u001B[39m._backward_pre_hooks \u001B[38;5;129;01mor\u001B[39;00m \u001B[38;5;28mself\u001B[39m._forward_hooks \u001B[38;5;129;01mor\u001B[39;00m \u001B[38;5;28mself\u001B[39m._forward_pre_hooks\n\u001B[32m   1518\u001B[39m         \u001B[38;5;129;01mor\u001B[39;00m _global_backward_pre_hooks \u001B[38;5;129;01mor\u001B[39;00m _global_backward_hooks\n\u001B[32m   1519\u001B[39m         \u001B[38;5;129;01mor\u001B[39;00m _global_forward_hooks \u001B[38;5;129;01mor\u001B[39;00m _global_forward_pre_hooks):\n\u001B[32m-> \u001B[39m\u001B[32m1520\u001B[39m     \u001B[38;5;28;01mreturn\u001B[39;00m \u001B[43mforward_call\u001B[49m\u001B[43m(\u001B[49m\u001B[43m*\u001B[49m\u001B[43margs\u001B[49m\u001B[43m,\u001B[49m\u001B[43m \u001B[49m\u001B[43m*\u001B[49m\u001B[43m*\u001B[49m\u001B[43mkwargs\u001B[49m\u001B[43m)\u001B[49m\n\u001B[32m   1522\u001B[39m \u001B[38;5;28;01mtry\u001B[39;00m:\n\u001B[32m   1523\u001B[39m     result = \u001B[38;5;28;01mNone\u001B[39;00m\n",
      "\u001B[36mFile \u001B[39m\u001B[32m~/Projects/ml-lab-img/venv/lib/python3.11/site-packages/torch/nn/modules/conv.py:460\u001B[39m, in \u001B[36mConv2d.forward\u001B[39m\u001B[34m(self, input)\u001B[39m\n\u001B[32m    459\u001B[39m \u001B[38;5;28;01mdef\u001B[39;00m\u001B[38;5;250m \u001B[39m\u001B[34mforward\u001B[39m(\u001B[38;5;28mself\u001B[39m, \u001B[38;5;28minput\u001B[39m: Tensor) -> Tensor:\n\u001B[32m--> \u001B[39m\u001B[32m460\u001B[39m     \u001B[38;5;28;01mreturn\u001B[39;00m \u001B[38;5;28;43mself\u001B[39;49m\u001B[43m.\u001B[49m\u001B[43m_conv_forward\u001B[49m\u001B[43m(\u001B[49m\u001B[38;5;28;43minput\u001B[39;49m\u001B[43m,\u001B[49m\u001B[43m \u001B[49m\u001B[38;5;28;43mself\u001B[39;49m\u001B[43m.\u001B[49m\u001B[43mweight\u001B[49m\u001B[43m,\u001B[49m\u001B[43m \u001B[49m\u001B[38;5;28;43mself\u001B[39;49m\u001B[43m.\u001B[49m\u001B[43mbias\u001B[49m\u001B[43m)\u001B[49m\n",
      "\u001B[36mFile \u001B[39m\u001B[32m~/Projects/ml-lab-img/venv/lib/python3.11/site-packages/torch/nn/modules/conv.py:456\u001B[39m, in \u001B[36mConv2d._conv_forward\u001B[39m\u001B[34m(self, input, weight, bias)\u001B[39m\n\u001B[32m    452\u001B[39m \u001B[38;5;28;01mif\u001B[39;00m \u001B[38;5;28mself\u001B[39m.padding_mode != \u001B[33m'\u001B[39m\u001B[33mzeros\u001B[39m\u001B[33m'\u001B[39m:\n\u001B[32m    453\u001B[39m     \u001B[38;5;28;01mreturn\u001B[39;00m F.conv2d(F.pad(\u001B[38;5;28minput\u001B[39m, \u001B[38;5;28mself\u001B[39m._reversed_padding_repeated_twice, mode=\u001B[38;5;28mself\u001B[39m.padding_mode),\n\u001B[32m    454\u001B[39m                     weight, bias, \u001B[38;5;28mself\u001B[39m.stride,\n\u001B[32m    455\u001B[39m                     _pair(\u001B[32m0\u001B[39m), \u001B[38;5;28mself\u001B[39m.dilation, \u001B[38;5;28mself\u001B[39m.groups)\n\u001B[32m--> \u001B[39m\u001B[32m456\u001B[39m \u001B[38;5;28;01mreturn\u001B[39;00m \u001B[43mF\u001B[49m\u001B[43m.\u001B[49m\u001B[43mconv2d\u001B[49m\u001B[43m(\u001B[49m\u001B[38;5;28;43minput\u001B[39;49m\u001B[43m,\u001B[49m\u001B[43m \u001B[49m\u001B[43mweight\u001B[49m\u001B[43m,\u001B[49m\u001B[43m \u001B[49m\u001B[43mbias\u001B[49m\u001B[43m,\u001B[49m\u001B[43m \u001B[49m\u001B[38;5;28;43mself\u001B[39;49m\u001B[43m.\u001B[49m\u001B[43mstride\u001B[49m\u001B[43m,\u001B[49m\n\u001B[32m    457\u001B[39m \u001B[43m                \u001B[49m\u001B[38;5;28;43mself\u001B[39;49m\u001B[43m.\u001B[49m\u001B[43mpadding\u001B[49m\u001B[43m,\u001B[49m\u001B[43m \u001B[49m\u001B[38;5;28;43mself\u001B[39;49m\u001B[43m.\u001B[49m\u001B[43mdilation\u001B[49m\u001B[43m,\u001B[49m\u001B[43m \u001B[49m\u001B[38;5;28;43mself\u001B[39;49m\u001B[43m.\u001B[49m\u001B[43mgroups\u001B[49m\u001B[43m)\u001B[49m\n",
      "\u001B[31mRuntimeError\u001B[39m: Expected 3D (unbatched) or 4D (batched) input to conv2d, but got input of size: [64, 784]"
     ]
    }
   ],
   "execution_count": 11
  },
  {
   "metadata": {
    "ExecuteTime": {
     "end_time": "2025-04-10T13:25:55.449933Z",
     "start_time": "2025-04-10T13:25:55.444065Z"
    }
   },
   "cell_type": "code",
   "source": [
    "plot_learning(mnist_learning)"
   ],
   "id": "384639b55cc7c3ab",
   "outputs": [],
   "execution_count": null
  },
  {
   "metadata": {
    "ExecuteTime": {
     "start_time": "2025-04-10T13:25:55.446115Z"
    }
   },
   "cell_type": "code",
   "source": [
    "saved_io = io.BytesIO()\n",
    "torch.save(model.state_dict(), saved_io)\n",
    "saved = saved_io.getvalue()\n"
   ],
   "id": "de7c859a1672879c",
   "outputs": [],
   "execution_count": null
  },
  {
   "metadata": {},
   "cell_type": "markdown",
   "source": [
    "# Now freezing common layers and optimizing the second head"
   ],
   "id": "88d1d5728b0f8f0f"
  },
  {
   "metadata": {
    "ExecuteTime": {
     "start_time": "2025-04-10T13:25:55.447406Z"
    }
   },
   "cell_type": "code",
   "source": [
    "for parameter in model.shared_layers.parameters():\n",
    "    parameter.requires_grad = False\n",
    "    \n",
    "fmnist_learning = run_training(train_data_fmnist, test_data_fmnist, model, list(model.shared_layers.parameters()), 2)\n"
   ],
   "id": "c645bff4a60efbb",
   "outputs": [],
   "execution_count": null
  },
  {
   "metadata": {
    "ExecuteTime": {
     "start_time": "2025-04-10T13:25:55.448981Z"
    }
   },
   "cell_type": "code",
   "source": [
    "plot_learning(fmnist_learning)"
   ],
   "id": "831727bd5ccf8fe2",
   "outputs": [],
   "execution_count": null
  },
  {
   "metadata": {
    "ExecuteTime": {
     "start_time": "2025-04-10T13:25:55.450389Z"
    }
   },
   "cell_type": "code",
   "source": [],
   "id": "9968fc0ab5fdd966",
   "outputs": [],
   "execution_count": null
  },
  {
   "metadata": {},
   "cell_type": "markdown",
   "source": [
    "# Now we are studying a second head with all layers unfrozen"
   ],
   "id": "61ad3d59fda237ac"
  },
  {
   "metadata": {
    "ExecuteTime": {
     "start_time": "2025-04-10T13:25:55.451640Z"
    }
   },
   "cell_type": "code",
   "source": [
    "for parameter in model.shared_layers.parameters():\n",
    "    parameter.requires_grad = True\n",
    "\n",
    "fmnist_learning_unfreezed = run_training(train_data_fmnist, test_data_fmnist, model, list(model.parameters()), 2)\n"
   ],
   "id": "3ae2733d18a94792",
   "outputs": [],
   "execution_count": null
  },
  {
   "metadata": {
    "ExecuteTime": {
     "end_time": "2025-04-10T13:25:55.453972Z",
     "start_time": "2025-04-10T13:25:55.453027Z"
    }
   },
   "cell_type": "code",
   "source": [
    "plot_learning(fmnist_learning_unfreezed)\n"
   ],
   "id": "739e025c36b1b40f",
   "outputs": [],
   "execution_count": null
  },
  {
   "metadata": {
    "ExecuteTime": {
     "start_time": "2025-04-10T13:25:55.454726Z"
    }
   },
   "cell_type": "code",
   "source": [
    "model.load_state_dict(torch.load(io.BytesIO(saved), weights_only=True))\n",
    "model.eval()"
   ],
   "id": "f239ebe089e5f5ca",
   "outputs": [],
   "execution_count": null
  },
  {
   "metadata": {
    "ExecuteTime": {
     "start_time": "2025-04-10T13:25:55.456168Z"
    }
   },
   "cell_type": "code",
   "source": [
    "fmnist_learning_unfreezed_loaded = run_training(train_data_fmnist, test_data_fmnist, model, list(model.parameters()), 2)\n"
   ],
   "id": "7c4b0eb9605478c",
   "outputs": [],
   "execution_count": null
  },
  {
   "metadata": {
    "ExecuteTime": {
     "start_time": "2025-04-10T13:25:55.457933Z"
    }
   },
   "cell_type": "code",
   "source": [
    "plot_learning(fmnist_learning_unfreezed_loaded)\n",
    "\n"
   ],
   "id": "a7b137bab8468995",
   "outputs": [],
   "execution_count": null
  },
  {
   "metadata": {
    "ExecuteTime": {
     "start_time": "2025-04-10T13:25:55.459761Z"
    }
   },
   "cell_type": "code",
   "source": [
    "from torchvision.datasets import MNIST\n",
    "def label_names(dataset: MNIST):\n",
    "    return {idx: cls for cls, idx in dataset.class_to_idx.items()}\n",
    "    \n",
    "def find_nearest():\n",
    "    fmnist_labels = label_names(test_data_fmnist)\n",
    "    mnist_labels = label_names(test_data_mnist)\n",
    "    test_loader = torch.utils.data.DataLoader(test_data_mnist, batch_size=len(test_data_mnist), shuffle=False)\n",
    "\n",
    "    # Получение всех изображений и меток\n",
    "    images, labels = next(iter(test_loader))\n",
    "\n",
    "    # Предсказание модели (предполагаем, что model уже обучена)\n",
    "    model.eval()\n",
    "    with torch.no_grad():\n",
    "        logits = model(images, head=2)  # (n_samples, n_classes)\n",
    "        probabilities = torch.softmax(logits, dim=1)  # (n_samples, n_classes)\n",
    "\n",
    "    probabilities = probabilities.numpy()\n",
    "    labels = labels.numpy()\n",
    "\n",
    "    # Поиск для каждой пары классов (c, t) изображения класса c с максимальной вероятностью для t\n",
    "    n_classes = probabilities.shape[1]\n",
    "\n",
    "    for c in range(n_classes):\n",
    "        for t in range(n_classes):\n",
    "            # Маска для изображений класса c\n",
    "            mask = (labels == c)\n",
    "            probs_t = probabilities[mask, t]\n",
    "            \n",
    "            if len(probs_t) == 0:\n",
    "                continue  # Если нет изображений класса c\n",
    "            \n",
    "            # Находим индекс изображения с максимальной вероятностью для t\n",
    "            max_idx = np.argmax(probs_t)\n",
    "            \n",
    "            # Получаем все изображения класса c и выбираем нужное\n",
    "            images_c = images[mask]\n",
    "            most_similar_to_t = images_c[max_idx]\n",
    "            \n",
    "            msg= f\"Class {mnist_labels[c]} image most similar to class {fmnist_labels[t]}: prob={probs_t[max_idx]:.4f}\"\n",
    "            print()\n",
    "            \n",
    "            # Здесь можно сохранить изображение или визуализировать его\n",
    "            # Например, с помощью matplotlib:\n",
    "            # import matplotlib.pyplot as plt\n",
    "            plt.imshow(most_similar_to_t.squeeze(), cmap='gray')\n",
    "            plt.title(msg)\n",
    "            plt.show()"
   ],
   "id": "f26c695da8b878b4",
   "outputs": [],
   "execution_count": null
  },
  {
   "metadata": {
    "ExecuteTime": {
     "start_time": "2025-04-10T13:25:55.460928Z"
    }
   },
   "cell_type": "code",
   "source": [
    "find_nearest()"
   ],
   "id": "d06d9e671ddf9a4",
   "outputs": [],
   "execution_count": null
  },
  {
   "metadata": {
    "ExecuteTime": {
     "start_time": "2025-04-10T13:25:55.462325Z"
    }
   },
   "cell_type": "code",
   "source": [],
   "id": "e04a95e687dfb68a",
   "outputs": [],
   "execution_count": null
  }
 ],
 "metadata": {
  "kernelspec": {
   "display_name": "Python 3",
   "language": "python",
   "name": "python3"
  },
  "language_info": {
   "codemirror_mode": {
    "name": "ipython",
    "version": 2
   },
   "file_extension": ".py",
   "mimetype": "text/x-python",
   "name": "python",
   "nbconvert_exporter": "python",
   "pygments_lexer": "ipython2",
   "version": "2.7.6"
  }
 },
 "nbformat": 4,
 "nbformat_minor": 5
}
